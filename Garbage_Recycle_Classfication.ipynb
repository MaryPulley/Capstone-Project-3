{
 "cells": [
  {
   "cell_type": "code",
   "execution_count": 3,
   "metadata": {},
   "outputs": [],
   "source": [
    "from utils import getCurrDirPath, extract_image_files\n",
    "import os\n",
    "from pathlib import Path"
   ]
  },
  {
   "cell_type": "markdown",
   "metadata": {},
   "source": [
    "### Extract the images into the Resources folder"
   ]
  },
  {
   "cell_type": "code",
   "execution_count": 6,
   "metadata": {},
   "outputs": [
    {
     "name": "stdout",
     "output_type": "stream",
     "text": [
      "Current directory: C:\\Workspace\\AI_BootCamp\\Capstone\\Capstone-Project-3\n",
      "Current directory: C:\\Workspace\\AI_BootCamp\\Capstone\\Capstone-Project-3\n",
      "Archive file loc: C:\\Workspace\\AI_BootCamp\\Capstone\\Capstone-Project-3\\Resources\\archive.zip\n",
      "Archive file extract loc: C:\\Workspace\\AI_BootCamp\\Capstone\\Capstone-Project-3\\Resources\n",
      "Files extracted to 'C:\\Workspace\\AI_BootCamp\\Capstone\\Capstone-Project-3\\Resources'\n"
     ]
    }
   ],
   "source": [
    "# Get the directory of the current file\n",
    "resource_folder_name = \"Resources\"\n",
    "archive_file_name = \"archive.zip\"\n",
    "\n",
    "current_directory = getCurrDirPath()\n",
    "print(f\"Current directory: {current_directory}\")\n",
    "\n",
    "archive_file_loc = os.path.join(\n",
    "    current_directory, resource_folder_name, archive_file_name\n",
    ")\n",
    "print(f\"Archive file loc: {archive_file_loc}\")\n",
    "\n",
    "archive_extract_loc = os.path.join(current_directory, resource_folder_name)\n",
    "print(f\"Archive file extract loc: {archive_extract_loc}\")\n",
    "\n",
    "# This is for running in VSCode\n",
    "extract_image_files(archive_file_loc, archive_extract_loc)"
   ]
  }
 ],
 "metadata": {
  "kernelspec": {
   "display_name": "dev",
   "language": "python",
   "name": "python3"
  },
  "language_info": {
   "codemirror_mode": {
    "name": "ipython",
    "version": 3
   },
   "file_extension": ".py",
   "mimetype": "text/x-python",
   "name": "python",
   "nbconvert_exporter": "python",
   "pygments_lexer": "ipython3",
   "version": "3.10.15"
  }
 },
 "nbformat": 4,
 "nbformat_minor": 2
}
