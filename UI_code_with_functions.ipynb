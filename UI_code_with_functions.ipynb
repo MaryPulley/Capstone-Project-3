{
  "nbformat": 4,
  "nbformat_minor": 0,
  "metadata": {
    "colab": {
      "provenance": [],
      "authorship_tag": "ABX9TyPWof7r6jqG18aoYFKL9a12",
      "include_colab_link": true
    },
    "kernelspec": {
      "name": "python3",
      "display_name": "Python 3"
    },
    "language_info": {
      "name": "python"
    }
  },
  "cells": [
    {
      "cell_type": "markdown",
      "metadata": {
        "id": "view-in-github",
        "colab_type": "text"
      },
      "source": [
        "<a href=\"https://colab.research.google.com/github/MaryPulley/Capstone-Project-3/blob/Katie-branch/UI_code_with_functions.ipynb\" target=\"_parent\"><img src=\"https://colab.research.google.com/assets/colab-badge.svg\" alt=\"Open In Colab\"/></a>"
      ]
    },
    {
      "cell_type": "code",
      "source": [
        "# Import pandas\n",
        "import pandas as pd\n",
        "# Import the required dependencies from sklearn\n",
        "from sklearn.model_selection import train_test_split\n",
        "from sklearn.pipeline import Pipeline\n",
        "from sklearn.feature_extraction.text import TfidfVectorizer\n",
        "from sklearn.svm import LinearSVC\n",
        "\n",
        "# Import Gradio\n",
        "!pip install gradio\n",
        "import gradio as gr"
      ],
      "metadata": {
        "id": "aags1LCBxuJI"
      },
      "execution_count": null,
      "outputs": []
    },
    {
      "cell_type": "code",
      "execution_count": null,
      "metadata": {
        "id": "V27l8osNds15"
      },
      "outputs": [],
      "source": [
        "# Define a photo classification function\n",
        "def photo_classification(photo_trash_df):\n",
        "    \"\"\"\n",
        "    Perform photo classification using a pipeline with CNN classification.\n",
        "\n",
        "    Parameters:\n",
        "    - photo_trash_df (pd.DataFrame): DataFrame containing 'file_name' and 'label' columns for photo classification.\n",
        "\n",
        "    Returns:\n",
        "    - photo_clf (Pipeline): Fitted pipeline model for Photo classification.\n",
        "\n",
        "    This function takes a DataFrame with 'file_name' and 'label' columns, splits the data into\n",
        "    training and testing sets, builds a pipeline with TF-IDF vectorization and Linear Support Vector\n",
        "    Classification, and fits the model to the training data.\n",
        "    The fitted pipeline is returned to make future predictions.\n",
        "    \"\"\"\n",
        "    # Set the features variable to the text message column.\n",
        "    x = photo_trash_df['file_name']\n",
        "\n",
        "    # Set the target variable to the \"label\" column.\n",
        "    y = photo_trash_df['label']\n",
        "\n",
        "    # Split data into training and testing and set the test_size = 33%\n",
        "    x_train, x_test, y_train, y_test = train_test_split(x, y, test_size=0.33, random_state=42)\n",
        "\n",
        "    # Build a pipeline to transform the test set to compare to the training set\n",
        "    photo_clf = Pipeline([('tfidf', TfidfVectorizer()), ('clf', LinearSVC())])\n",
        "\n",
        "    # Fit the model to the transformed training data and return model\n",
        "    photo_clf.fit(x_train, y_train)\n",
        "\n",
        "    return photo_clf"
      ]
    },
    {
      "cell_type": "code",
      "source": [
        "# Load the dataset into a dataframe\n",
        "photo_trash_df = pd.read_csv('EXAMPLE.csv')\n",
        "\n",
        "photo_trash_df"
      ],
      "metadata": {
        "id": "FMHPbAZzxJlV"
      },
      "execution_count": null,
      "outputs": []
    },
    {
      "cell_type": "code",
      "source": [
        "# Call the sms_classification function with the DataFrame and set the result to the \"photo_clf\" variable\n",
        "photo_clf = photo_classification(photo_trash_df)"
      ],
      "metadata": {
        "id": "kqIFwT5lv_XQ"
      },
      "execution_count": null,
      "outputs": []
    },
    {
      "cell_type": "code",
      "source": [
        "# Create a function called `recycle_prediction` that takes in the photo and predicts the whether the photo is \"recyclable \" or \"not recyclable\".\n",
        "# The function should return the photo, and say whether the photo is \"recyclable\" or \"not recyclable\".\n",
        "def recycle_prediction(photo_df):\n",
        "    \"\"\"\n",
        "    Predict the recyclable/not recyclable classification of a given photo using a pre-trained model.\n",
        "\n",
        "    Parameters:\n",
        "    - photo (str): The photo message to be classified.\n",
        "\n",
        "    Returns:\n",
        "    - str: A message indicating whether the phot is classified as recyclable or not recyclable.\n",
        "\n",
        "    This function takes a phote and a pre-trained pipeline model, then predicts the\n",
        "    recyclable/not recyclable classification of the photo. The result is a message stating whether the photo is\n",
        "    classified as recyclable or not recyclable.\n",
        "    \"\"\"\n",
        "    # Create a variable that will hold the prediction of a new photo.\n",
        "    predict = photo_clf.predict([photo_df])\n",
        "\n",
        "    # Using a conditional if the prediction is \"ham\" return the message:\n",
        "    # f'The text message: \"{text}\", is not spam.' Else, return f'The text message: \"{text}\", is spam.'\n",
        "    if predict == 'ham':\n",
        "        return f'The text message: \"{sms_text_df}\", is not spam.'\n",
        "    else:\n",
        "        return f'The text message: \"{sms_text_df}\", is spam.'\n"
      ],
      "metadata": {
        "id": "gdQ34udbv_Ur"
      },
      "execution_count": null,
      "outputs": []
    },
    {
      "source": [
        "\n",
        "# Create the app\n",
        "image_app = gr.Interface(\n",
        "    fn=lambda x:x,\n",
        "    inputs=gr.Image(label=\"Upload a photo of your waste item\",type=\"filepath\"),\n",
        "    outputs=gr.Text(label=\"Our app has determined your item is:\"),\n",
        "    # Add Title to App\n",
        "    title = \"Welcome to the Waste Classifier App\",\n",
        "    # Add Description to App\n",
        "    description = \"Simply upload a picture of your trash to determine if your item can be recycled!\",\n",
        "    # Theme class from gr.themes\n",
        "    theme = gr.themes.Default(primary_hue=\"green\")\n",
        "    )\n",
        "\n",
        "# Launch app with a link to share and allow the app to also be downloaded through PWA\n",
        "image_app.launch(pwa=True, share = True, debug = True)"
      ],
      "cell_type": "code",
      "metadata": {
        "colab": {
          "base_uri": "https://localhost:8080/",
          "height": 614
        },
        "id": "ah0VcicJt9M0",
        "outputId": "a74d63cf-6e1d-401b-ae93-8db86788b51e"
      },
      "execution_count": null,
      "outputs": [
        {
          "output_type": "stream",
          "name": "stdout",
          "text": [
            "Colab notebook detected. This cell will run indefinitely so that you can see errors and logs. To turn off, set debug=False in launch().\n",
            "* Running on public URL: https://f0f71ae9cff11ba5bf.gradio.live\n",
            "\n",
            "This share link expires in 72 hours. For free permanent hosting and GPU upgrades, run `gradio deploy` from the terminal in the working directory to deploy to Hugging Face Spaces (https://huggingface.co/spaces)\n"
          ]
        },
        {
          "output_type": "display_data",
          "data": {
            "text/plain": [
              "<IPython.core.display.HTML object>"
            ],
            "text/html": [
              "<div><iframe src=\"https://f0f71ae9cff11ba5bf.gradio.live\" width=\"100%\" height=\"500\" allow=\"autoplay; camera; microphone; clipboard-read; clipboard-write;\" frameborder=\"0\" allowfullscreen></iframe></div>"
            ]
          },
          "metadata": {}
        }
      ]
    },
    {
      "cell_type": "code",
      "source": [],
      "metadata": {
        "id": "5w-SVCnHkh_w"
      },
      "execution_count": null,
      "outputs": []
    }
  ]
}