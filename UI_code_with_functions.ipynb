{
  "cells": [
    {
      "cell_type": "markdown",
      "metadata": {
        "id": "view-in-github",
        "colab_type": "text"
      },
      "source": [
        "<a href=\"https://colab.research.google.com/github/MaryPulley/Capstone-Project-3/blob/Katie-branch/UI_code_with_functions.ipynb\" target=\"_parent\"><img src=\"https://colab.research.google.com/assets/colab-badge.svg\" alt=\"Open In Colab\"/></a>"
      ]
    },
    {
      "cell_type": "markdown",
      "source": [
        "# **1. Create a photo classification function**"
      ],
      "metadata": {
        "id": "PxqhNKnz6YDQ"
      }
    },
    {
      "cell_type": "code",
      "source": [
        "# Define a photo classification function\n",
        "import pandas as pd\n",
        "from sklearn.model_selection import train_test_split\n",
        "from sklearn.pipeline import Pipeline\n",
        "\n",
        "# Assuming you have a CNN model and image loading/preprocessing functions\n",
        "# from your_module import load_and_preprocess_images, MyCNN\n",
        "\n",
        "def photo_classification(photo_trash_df):\n",
        "    \"\"\"\n",
        "    Perform photo classification using a pipeline with CNN classification.\n",
        "\n",
        "    Parameters:\n",
        "    - photo_trash_df (pd.DataFrame): DataFrame containing 'file_name' and 'label' columns for photo classification.\n",
        "\n",
        "    Returns:\n",
        "    - photo_clf (Pipeline): Fitted pipeline model for Photo classification.\n",
        "    \"\"\"\n",
        "\n",
        "    # Set the feature variable for \"file name\" column\n",
        "    x = photo_trash_df['file_name']\n",
        "    # Set the target variable for \"label\" column\n",
        "    y = photo_trash_df['label']\n",
        "    x_train, x_test, y_train, y_test = train_test_split(x, y, test_size=0.33, random_state=42)\n",
        "\n",
        "    # Load and preprocess images\n",
        "    x_train_images = load_and_preprocess_images(x_train)\n",
        "    x_test_images = load_and_preprocess_images(x_test)\n",
        "\n",
        "    # Build a pipeline with the CNN model\n",
        "    photo_clf = Pipeline([('cnn', MyCNN())])\n",
        "\n",
        "    # Fit the model to the processed image data\n",
        "    photo_clf.fit(x_train_images, y_train)\n",
        "\n",
        "    return photo_clf\n"
      ],
      "metadata": {
        "id": "vbLrQcMO4dRD"
      },
      "execution_count": null,
      "outputs": []
    },
    {
      "cell_type": "code",
      "execution_count": null,
      "metadata": {
        "id": "FMHPbAZzxJlV"
      },
      "outputs": [],
      "source": [
        "# Load the dataset into a dataframe\n",
        "photo_trash_df = pd.read_csv('EXAMPLE.csv')\n",
        "photo_trash_df"
      ]
    },
    {
      "cell_type": "code",
      "execution_count": null,
      "metadata": {
        "id": "kqIFwT5lv_XQ"
      },
      "outputs": [],
      "source": [
        "# Call the sms_classification function with the DataFrame and set the result to the \"photo_clf\" variable\n",
        "photo_clf = photo_classification(photo_trash_df)"
      ]
    },
    {
      "cell_type": "markdown",
      "source": [
        "# **2. Create a photo prediction function**"
      ],
      "metadata": {
        "id": "7tKTCecd6hTy"
      }
    },
    {
      "cell_type": "code",
      "source": [
        "# Define a photo prediction function\n",
        "def predict_photo_labels(model, file_names):\n",
        "    \"\"\"\n",
        "    Predicts labels for a list of photo file names using a trained model.\n",
        "\n",
        "    Parameters:\n",
        "    - model (Pipeline): Trained pipeline model (from photo_classification).\n",
        "    - file_names (pd.Series or list): List or Pandas Series of file names to predict labels for.\n",
        "\n",
        "    Returns:\n",
        "    - list: List of predicted labels.\n",
        "    \"\"\"\n",
        "    # Load and preprocess images for prediction\n",
        "    image_data = load_and_preprocess_images(file_names)\n",
        "\n",
        "    # Make predictions\n",
        "    predictions = model.predict(image_data)\n",
        "\n",
        "    return predictions"
      ],
      "metadata": {
        "id": "AljuZVSN6GnB"
      },
      "execution_count": null,
      "outputs": []
    },
    {
      "cell_type": "code",
      "execution_count": null,
      "metadata": {
        "colab": {
          "background_save": true,
          "base_uri": "https://localhost:8080/",
          "height": 614
        },
        "id": "ah0VcicJt9M0",
        "outputId": "9c4fe292-14d4-4af9-8ae5-2d07407d9cf8"
      },
      "outputs": [
        {
          "name": "stdout",
          "output_type": "stream",
          "text": [
            "Colab notebook detected. This cell will run indefinitely so that you can see errors and logs. To turn off, set debug=False in launch().\n",
            "* Running on public URL: https://f0f71ae9cff11ba5bf.gradio.live\n",
            "\n",
            "This share link expires in 72 hours. For free permanent hosting and GPU upgrades, run `gradio deploy` from the terminal in the working directory to deploy to Hugging Face Spaces (https://huggingface.co/spaces)\n"
          ]
        },
        {
          "data": {
            "text/html": [
              "<div><iframe src=\"https://f0f71ae9cff11ba5bf.gradio.live\" width=\"100%\" height=\"500\" allow=\"autoplay; camera; microphone; clipboard-read; clipboard-write;\" frameborder=\"0\" allowfullscreen></iframe></div>"
            ],
            "text/plain": [
              "<IPython.core.display.HTML object>"
            ]
          },
          "metadata": {},
          "output_type": "display_data"
        }
      ],
      "source": [
        "# Import dependency for gradio\n",
        "!pip install gradio\n",
        "import gradio as gr\n",
        "\n",
        "# Create the app\n",
        "image_app = gr.Interface(\n",
        "    fn=lambda x:x,\n",
        "    inputs=gr.Image(label=\"Upload a photo of your waste item\",type=\"filepath\"),\n",
        "    outputs=gr.Text(label=\"Our app has determined your item is:\"),\n",
        "    # Add Title to App\n",
        "    title = \"Welcome to the Waste Classifier App\",\n",
        "    # Add Description to App\n",
        "    description = \"Simply upload a picture of your trash to determine if your item can be recycled!\",\n",
        "    # Theme class from gr.themes\n",
        "    theme = gr.themes.Default(primary_hue=\"green\")\n",
        "    )\n",
        "\n",
        "# Launch app with a link to share and allow the app to also be downloaded through PWA\n",
        "image_app.launch(pwa=True, share = True, debug = True)"
      ]
    },
    {
      "cell_type": "code",
      "execution_count": null,
      "metadata": {
        "id": "5w-SVCnHkh_w"
      },
      "outputs": [],
      "source": []
    }
  ],
  "metadata": {
    "colab": {
      "provenance": [],
      "authorship_tag": "ABX9TyML0jtnEz2YHWZGcMnPavZZ",
      "include_colab_link": true
    },
    "kernelspec": {
      "display_name": "Python 3",
      "name": "python3"
    },
    "language_info": {
      "name": "python"
    }
  },
  "nbformat": 4,
  "nbformat_minor": 0
}