{
 "cells": [
  {
   "cell_type": "code",
   "execution_count": 2,
   "metadata": {},
   "outputs": [
    {
     "name": "stdout",
     "output_type": "stream",
     "text": [
      "Downloading from https://www.kaggle.com/api/v1/datasets/download/mostafaabla/garbage-classification?dataset_version_number=1...\n"
     ]
    },
    {
     "name": "stderr",
     "output_type": "stream",
     "text": [
      "100%|██████████| 239M/239M [00:23<00:00, 10.8MB/s] "
     ]
    },
    {
     "name": "stdout",
     "output_type": "stream",
     "text": [
      "Extracting files...\n"
     ]
    },
    {
     "name": "stderr",
     "output_type": "stream",
     "text": [
      "\n"
     ]
    },
    {
     "name": "stdout",
     "output_type": "stream",
     "text": [
      "Path to dataset files: C:\\Users\\Asa\\.cache\\kagglehub\\datasets\\mostafaabla\\garbage-classification\\versions\\1\n"
     ]
    }
   ],
   "source": [
    "# downloading a dataset from Kaggle using kagglehub\n",
    "import kagglehub # REQUIRED INSTALLATION\n",
    "\n",
    "path = kagglehub.dataset_download(\"mostafaabla/garbage-classification\")\n",
    "\n",
    "print(\"Path to dataset files:\", path)"
   ]
  },
  {
   "cell_type": "code",
   "execution_count": 11,
   "metadata": {},
   "outputs": [],
   "source": [
    "import os\n",
    "\n",
    "file_dict = {\"file_names\": [], \"file_paths\": [], \"classification\": []}\n",
    "for root, _, files in os.walk(path):\n",
    "    for file in files:\n",
    "        full_path = os.path.join(root, file)\n",
    "        file_dict[\"file_names\"].append(file)\n",
    "        file_dict[\"file_paths\"].append(full_path)\n",
    "        classification = ''.join([char for char in file if not char.isdigit()])\n",
    "        classification = classification.split(\".\")[0]\n",
    "        file_dict[\"classification\"].append(classification)"
   ]
  },
  {
   "cell_type": "code",
   "execution_count": 12,
   "metadata": {},
   "outputs": [
    {
     "data": {
      "text/html": [
       "<div>\n",
       "<style scoped>\n",
       "    .dataframe tbody tr th:only-of-type {\n",
       "        vertical-align: middle;\n",
       "    }\n",
       "\n",
       "    .dataframe tbody tr th {\n",
       "        vertical-align: top;\n",
       "    }\n",
       "\n",
       "    .dataframe thead th {\n",
       "        text-align: right;\n",
       "    }\n",
       "</style>\n",
       "<table border=\"1\" class=\"dataframe\">\n",
       "  <thead>\n",
       "    <tr style=\"text-align: right;\">\n",
       "      <th></th>\n",
       "      <th>file_names</th>\n",
       "      <th>file_paths</th>\n",
       "      <th>classification</th>\n",
       "    </tr>\n",
       "  </thead>\n",
       "  <tbody>\n",
       "    <tr>\n",
       "      <th>0</th>\n",
       "      <td>battery1.jpg</td>\n",
       "      <td>C:\\Users\\Asa\\.cache\\kagglehub\\datasets\\mostafa...</td>\n",
       "      <td>battery</td>\n",
       "    </tr>\n",
       "    <tr>\n",
       "      <th>1</th>\n",
       "      <td>battery10.jpg</td>\n",
       "      <td>C:\\Users\\Asa\\.cache\\kagglehub\\datasets\\mostafa...</td>\n",
       "      <td>battery</td>\n",
       "    </tr>\n",
       "    <tr>\n",
       "      <th>2</th>\n",
       "      <td>battery100.jpg</td>\n",
       "      <td>C:\\Users\\Asa\\.cache\\kagglehub\\datasets\\mostafa...</td>\n",
       "      <td>battery</td>\n",
       "    </tr>\n",
       "    <tr>\n",
       "      <th>3</th>\n",
       "      <td>battery101.jpg</td>\n",
       "      <td>C:\\Users\\Asa\\.cache\\kagglehub\\datasets\\mostafa...</td>\n",
       "      <td>battery</td>\n",
       "    </tr>\n",
       "    <tr>\n",
       "      <th>4</th>\n",
       "      <td>battery102.jpg</td>\n",
       "      <td>C:\\Users\\Asa\\.cache\\kagglehub\\datasets\\mostafa...</td>\n",
       "      <td>battery</td>\n",
       "    </tr>\n",
       "  </tbody>\n",
       "</table>\n",
       "</div>"
      ],
      "text/plain": [
       "       file_names                                         file_paths  \\\n",
       "0    battery1.jpg  C:\\Users\\Asa\\.cache\\kagglehub\\datasets\\mostafa...   \n",
       "1   battery10.jpg  C:\\Users\\Asa\\.cache\\kagglehub\\datasets\\mostafa...   \n",
       "2  battery100.jpg  C:\\Users\\Asa\\.cache\\kagglehub\\datasets\\mostafa...   \n",
       "3  battery101.jpg  C:\\Users\\Asa\\.cache\\kagglehub\\datasets\\mostafa...   \n",
       "4  battery102.jpg  C:\\Users\\Asa\\.cache\\kagglehub\\datasets\\mostafa...   \n",
       "\n",
       "  classification  \n",
       "0        battery  \n",
       "1        battery  \n",
       "2        battery  \n",
       "3        battery  \n",
       "4        battery  "
      ]
     },
     "execution_count": 12,
     "metadata": {},
     "output_type": "execute_result"
    }
   ],
   "source": [
    "import pandas as pd\n",
    "\n",
    "df = pd.DataFrame(file_dict)\n",
    "df.head()"
   ]
  },
  {
   "cell_type": "code",
   "execution_count": null,
   "metadata": {},
   "outputs": [],
   "source": [
    "df.to_csv(\"garbage_classification.csv\", index=False)\n",
    "# NOTE: file_paths is inaccurate as seen here, but will be accurate if you rerun the code"
   ]
  }
 ],
 "metadata": {
  "kernelspec": {
   "display_name": "dev",
   "language": "python",
   "name": "python3"
  },
  "language_info": {
   "codemirror_mode": {
    "name": "ipython",
    "version": 3
   },
   "file_extension": ".py",
   "mimetype": "text/x-python",
   "name": "python",
   "nbconvert_exporter": "python",
   "pygments_lexer": "ipython3",
   "version": "3.11.11"
  }
 },
 "nbformat": 4,
 "nbformat_minor": 2
}
