{
 "cells": [
  {
   "cell_type": "code",
   "execution_count": 1,
   "metadata": {},
   "outputs": [],
   "source": [
    "# !pip install optuna"
   ]
  },
  {
   "cell_type": "code",
   "execution_count": 2,
   "metadata": {},
   "outputs": [],
   "source": [
    "# imports\n",
    "import tensorflow as tf\n",
    "from tensorflow import keras\n",
    "from tensorflow.keras import layers\n",
    "from tensorflow.keras.optimizers import Adam\n",
    "from sklearn.model_selection import train_test_split\n",
    "from sklearn.preprocessing import LabelEncoder\n",
    "import numpy as np\n",
    "import requests\n",
    "import pickle\n",
    "import optuna\n",
    "import io"
   ]
  },
  {
   "cell_type": "code",
   "execution_count": 3,
   "metadata": {},
   "outputs": [],
   "source": [
    "# path to the dataset (replace with your own path) MAKE SURE YOU CHANGE THE SLASHES\n",
    "path = \"C:/Users/Asa/.cache/kagglehub/datasets/mostafaabla/garbage-classification/versions/1\""
   ]
  },
  {
   "cell_type": "code",
   "execution_count": 4,
   "metadata": {},
   "outputs": [],
   "source": [
    "import preprocessing as prep\n",
    "target_size = (150, 150)\n",
    "grayscale = True\n",
    "X, y = prep.get_X_y(path=path, percent=0.25, target_size=target_size, grayscale=grayscale)"
   ]
  },
  {
   "cell_type": "code",
   "execution_count": 5,
   "metadata": {},
   "outputs": [],
   "source": [
    "no_output_classes = len(y.columns)"
   ]
  },
  {
   "cell_type": "code",
   "execution_count": 6,
   "metadata": {},
   "outputs": [
    {
     "data": {
      "text/html": [
       "<div>\n",
       "<style scoped>\n",
       "    .dataframe tbody tr th:only-of-type {\n",
       "        vertical-align: middle;\n",
       "    }\n",
       "\n",
       "    .dataframe tbody tr th {\n",
       "        vertical-align: top;\n",
       "    }\n",
       "\n",
       "    .dataframe thead th {\n",
       "        text-align: right;\n",
       "    }\n",
       "</style>\n",
       "<table border=\"1\" class=\"dataframe\">\n",
       "  <thead>\n",
       "    <tr style=\"text-align: right;\">\n",
       "      <th></th>\n",
       "      <th>battery</th>\n",
       "      <th>cardboard</th>\n",
       "      <th>clothes</th>\n",
       "      <th>glass</th>\n",
       "      <th>metal</th>\n",
       "      <th>paper</th>\n",
       "      <th>plastic</th>\n",
       "      <th>trash</th>\n",
       "    </tr>\n",
       "  </thead>\n",
       "  <tbody>\n",
       "    <tr>\n",
       "      <th>0</th>\n",
       "      <td>1.0</td>\n",
       "      <td>0.0</td>\n",
       "      <td>0.0</td>\n",
       "      <td>0.0</td>\n",
       "      <td>0.0</td>\n",
       "      <td>0.0</td>\n",
       "      <td>0.0</td>\n",
       "      <td>0.0</td>\n",
       "    </tr>\n",
       "    <tr>\n",
       "      <th>1</th>\n",
       "      <td>1.0</td>\n",
       "      <td>0.0</td>\n",
       "      <td>0.0</td>\n",
       "      <td>0.0</td>\n",
       "      <td>0.0</td>\n",
       "      <td>0.0</td>\n",
       "      <td>0.0</td>\n",
       "      <td>0.0</td>\n",
       "    </tr>\n",
       "    <tr>\n",
       "      <th>2</th>\n",
       "      <td>1.0</td>\n",
       "      <td>0.0</td>\n",
       "      <td>0.0</td>\n",
       "      <td>0.0</td>\n",
       "      <td>0.0</td>\n",
       "      <td>0.0</td>\n",
       "      <td>0.0</td>\n",
       "      <td>0.0</td>\n",
       "    </tr>\n",
       "    <tr>\n",
       "      <th>3</th>\n",
       "      <td>1.0</td>\n",
       "      <td>0.0</td>\n",
       "      <td>0.0</td>\n",
       "      <td>0.0</td>\n",
       "      <td>0.0</td>\n",
       "      <td>0.0</td>\n",
       "      <td>0.0</td>\n",
       "      <td>0.0</td>\n",
       "    </tr>\n",
       "    <tr>\n",
       "      <th>4</th>\n",
       "      <td>1.0</td>\n",
       "      <td>0.0</td>\n",
       "      <td>0.0</td>\n",
       "      <td>0.0</td>\n",
       "      <td>0.0</td>\n",
       "      <td>0.0</td>\n",
       "      <td>0.0</td>\n",
       "      <td>0.0</td>\n",
       "    </tr>\n",
       "  </tbody>\n",
       "</table>\n",
       "</div>"
      ],
      "text/plain": [
       "   battery  cardboard  clothes  glass  metal  paper  plastic  trash\n",
       "0      1.0        0.0      0.0    0.0    0.0    0.0      0.0    0.0\n",
       "1      1.0        0.0      0.0    0.0    0.0    0.0      0.0    0.0\n",
       "2      1.0        0.0      0.0    0.0    0.0    0.0      0.0    0.0\n",
       "3      1.0        0.0      0.0    0.0    0.0    0.0      0.0    0.0\n",
       "4      1.0        0.0      0.0    0.0    0.0    0.0      0.0    0.0"
      ]
     },
     "execution_count": 6,
     "metadata": {},
     "output_type": "execute_result"
    }
   ],
   "source": [
    "y[:5]"
   ]
  },
  {
   "cell_type": "code",
   "execution_count": 7,
   "metadata": {},
   "outputs": [
    {
     "data": {
      "text/plain": [
       "(1360, 150, 150)"
      ]
     },
     "execution_count": 7,
     "metadata": {},
     "output_type": "execute_result"
    }
   ],
   "source": [
    "X.shape"
   ]
  },
  {
   "cell_type": "code",
   "execution_count": 8,
   "metadata": {},
   "outputs": [],
   "source": [
    "from sklearn.model_selection import train_test_split\n",
    "X_train, X_test, y_train, y_test = train_test_split(X, y)"
   ]
  },
  {
   "cell_type": "code",
   "execution_count": 9,
   "metadata": {},
   "outputs": [
    {
     "name": "stdout",
     "output_type": "stream",
     "text": [
      "Train Lengths: 1020 1020\n",
      "Test Lengths: 340 340\n"
     ]
    }
   ],
   "source": [
    "print(\"Train Lengths:\", len(X_train), len(y_train))\n",
    "print(\"Test Lengths:\", len(X_test), len(y_test))"
   ]
  },
  {
   "cell_type": "code",
   "execution_count": 10,
   "metadata": {},
   "outputs": [],
   "source": [
    "# defining the model\n",
    "from tensorflow.keras import layers\n",
    "\n",
    "input_shape = target_size\n",
    "if grayscale:\n",
    "    input_shape = input_shape + (1,)\n",
    "else:\n",
    "    input_shape = input_shape + (3,)\n",
    "\n",
    "# removing images from the dataset\n",
    "# dropout: randomly remove nodes in each layer to create gaps\n",
    "# normalization layer\n",
    "# augmentation\n",
    "# convert to grayscale <- \n",
    "\n",
    "\n",
    "# creating the create_model function for optuna\n",
    "def create_model(trial):\n",
    "    n_layers = trial.suggest_int('n_layers', 1, 5)\n",
    "    dropout_rate = trial.suggest_float('dropout_rate', 0.1, 0.5)\n",
    "    \n",
    "    model = keras.Sequential()\n",
    "    global input_shape\n",
    "    model.add(layers.Conv2D(32, (3, 3), activation='relu', input_shape=input_shape))\n",
    "\n",
    "    for i in range(n_layers):\n",
    "        # add convolutional layer\n",
    "        num_units = trial.suggest_int(f'n_units_{i}', 32, 128, step=32)\n",
    "        model.add(layers.Conv2D(num_units, (3, 3), activation='relu'))\n",
    "\n",
    "        # if last layer, additionaly add a batch normalization layer\n",
    "        if i == n_layers - 1:\n",
    "            model.add(layers.BatchNormalization())\n",
    "\n",
    "        # add pooling layer\n",
    "        model.add(layers.MaxPooling2D((2, 2)))\n",
    "\n",
    "    model.add(layers.Flatten())\n",
    "    model.add(layers.Dropout(dropout_rate))\n",
    "\n",
    "    global no_output_classes\n",
    "    model.add(layers.Dense(no_output_classes, activation='softmax'))\n",
    "\n",
    "    model.compile(optimizer='adam', loss='categorical_crossentropy', metrics=['accuracy'])\n",
    "\n",
    "    return model\n"
   ]
  },
  {
   "cell_type": "code",
   "execution_count": null,
   "metadata": {},
   "outputs": [],
   "source": [
    "# defining the objective function for optuna\n",
    "def objective(trial):\n",
    "    model = create_model(trial)\n",
    "\n",
    "    model.fit(X_train, y_train, epochs=50, batch_size=32, validation_split=0.2, verbose=0)\n",
    "    score = model.evaluate(X_test, y_test, verbose=1)\n",
    "    return score[1]"
   ]
  },
  {
   "cell_type": "code",
   "execution_count": null,
   "metadata": {},
   "outputs": [
    {
     "name": "stderr",
     "output_type": "stream",
     "text": [
      "[I 2025-04-07 21:33:48,932] A new study created in memory with name: no-name-38a39f24-a0f4-4ada-9365-23a026edb053\n",
      "c:\\Users\\Asa\\miniconda3\\envs\\dev\\Lib\\site-packages\\keras\\src\\layers\\convolutional\\base_conv.py:107: UserWarning: Do not pass an `input_shape`/`input_dim` argument to a layer. When using Sequential models, prefer using an `Input(shape)` object as the first layer in the model instead.\n",
      "  super().__init__(activity_regularizer=activity_regularizer, **kwargs)\n",
      "[I 2025-04-07 21:36:23,986] Trial 0 finished with value: 0.33529412746429443 and parameters: {'n_layers': 5, 'dropout_rate': 0.11200679826456393, 'n_units_0': 64, 'n_units_1': 128, 'n_units_2': 96, 'n_units_3': 64, 'n_units_4': 64}. Best is trial 0 with value: 0.33529412746429443.\n",
      "c:\\Users\\Asa\\miniconda3\\envs\\dev\\Lib\\site-packages\\keras\\src\\layers\\convolutional\\base_conv.py:107: UserWarning: Do not pass an `input_shape`/`input_dim` argument to a layer. When using Sequential models, prefer using an `Input(shape)` object as the first layer in the model instead.\n",
      "  super().__init__(activity_regularizer=activity_regularizer, **kwargs)\n",
      "[I 2025-04-07 21:37:46,224] Trial 1 finished with value: 0.23823529481887817 and parameters: {'n_layers': 1, 'dropout_rate': 0.3696737191980004, 'n_units_0': 32}. Best is trial 0 with value: 0.33529412746429443.\n",
      "c:\\Users\\Asa\\miniconda3\\envs\\dev\\Lib\\site-packages\\keras\\src\\layers\\convolutional\\base_conv.py:107: UserWarning: Do not pass an `input_shape`/`input_dim` argument to a layer. When using Sequential models, prefer using an `Input(shape)` object as the first layer in the model instead.\n",
      "  super().__init__(activity_regularizer=activity_regularizer, **kwargs)\n",
      "[I 2025-04-07 21:41:02,427] Trial 2 finished with value: 0.1558823585510254 and parameters: {'n_layers': 4, 'dropout_rate': 0.493080127415107, 'n_units_0': 96, 'n_units_1': 128, 'n_units_2': 32, 'n_units_3': 128}. Best is trial 0 with value: 0.33529412746429443.\n",
      "c:\\Users\\Asa\\miniconda3\\envs\\dev\\Lib\\site-packages\\keras\\src\\layers\\convolutional\\base_conv.py:107: UserWarning: Do not pass an `input_shape`/`input_dim` argument to a layer. When using Sequential models, prefer using an `Input(shape)` object as the first layer in the model instead.\n",
      "  super().__init__(activity_regularizer=activity_regularizer, **kwargs)\n",
      "[I 2025-04-07 21:42:22,380] Trial 3 finished with value: 0.14411765336990356 and parameters: {'n_layers': 2, 'dropout_rate': 0.40238649194540266, 'n_units_0': 32, 'n_units_1': 64}. Best is trial 0 with value: 0.33529412746429443.\n",
      "c:\\Users\\Asa\\miniconda3\\envs\\dev\\Lib\\site-packages\\keras\\src\\layers\\convolutional\\base_conv.py:107: UserWarning: Do not pass an `input_shape`/`input_dim` argument to a layer. When using Sequential models, prefer using an `Input(shape)` object as the first layer in the model instead.\n",
      "  super().__init__(activity_regularizer=activity_regularizer, **kwargs)\n",
      "[I 2025-04-07 21:47:46,708] Trial 4 finished with value: 0.2705882489681244 and parameters: {'n_layers': 4, 'dropout_rate': 0.1789232220027202, 'n_units_0': 128, 'n_units_1': 128, 'n_units_2': 64, 'n_units_3': 32}. Best is trial 0 with value: 0.33529412746429443.\n"
     ]
    }
   ],
   "source": [
    "# running optimization with optuna\n",
    "study = optuna.create_study(direction='maximize')\n",
    "study.optimize(objective, n_trials=100)"
   ]
  },
  {
   "cell_type": "code",
   "execution_count": null,
   "metadata": {},
   "outputs": [],
   "source": [
    "# creating the model\n",
    "model = create_model(study.best_trail)"
   ]
  },
  {
   "cell_type": "code",
   "execution_count": 42,
   "metadata": {},
   "outputs": [
    {
     "name": "stdout",
     "output_type": "stream",
     "text": [
      "\u001b[1m21/21\u001b[0m \u001b[32m━━━━━━━━━━━━━━━━━━━━\u001b[0m\u001b[37m\u001b[0m \u001b[1m1s\u001b[0m 67ms/step - accuracy: 0.4561 - loss: 1.5874\n"
     ]
    },
    {
     "data": {
      "text/plain": [
       "[1.6147503852844238, 0.44938650727272034]"
      ]
     },
     "execution_count": 42,
     "metadata": {},
     "output_type": "execute_result"
    }
   ],
   "source": [
    "# Evaluate the model using the testing data\n",
    "model.evaluate(X_test, y_test)"
   ]
  },
  {
   "cell_type": "code",
   "execution_count": 43,
   "metadata": {},
   "outputs": [],
   "source": [
    "# Saving the model\n",
    "with open(\"initial_model.pkl\", \"wb\") as f:\n",
    "    pickle.dump(model, f)"
   ]
  },
  {
   "cell_type": "markdown",
   "metadata": {},
   "source": [
    "### Testing the model"
   ]
  },
  {
   "cell_type": "code",
   "execution_count": 44,
   "metadata": {},
   "outputs": [],
   "source": [
    "# reloaing the model\n",
    "import pickle\n",
    "with open(\"initial_model.pkl\", \"rb\") as f:\n",
    "    model = pickle.load(f)"
   ]
  },
  {
   "cell_type": "code",
   "execution_count": 45,
   "metadata": {},
   "outputs": [],
   "source": [
    "# preprocess a new image \n",
    "import preprocessing as prep\n",
    "image_path =\"clothes_test_image.jpg\"\n",
    "X_input = prep.get_X([image_path], target_size=(150, 150))"
   ]
  },
  {
   "cell_type": "code",
   "execution_count": 46,
   "metadata": {},
   "outputs": [
    {
     "name": "stdout",
     "output_type": "stream",
     "text": [
      "\u001b[1m1/1\u001b[0m \u001b[32m━━━━━━━━━━━━━━━━━━━━\u001b[0m\u001b[37m\u001b[0m \u001b[1m0s\u001b[0m 139ms/step\n"
     ]
    },
    {
     "name": "stderr",
     "output_type": "stream",
     "text": [
      "c:\\Users\\Asa\\miniconda3\\envs\\dev\\Lib\\site-packages\\keras\\src\\models\\functional.py:237: UserWarning: The structure of `inputs` doesn't match the expected structure.\n",
      "Expected: input_layer_3\n",
      "Received: inputs=('Tensor(shape=(1, 150, 150))', ())\n",
      "  warnings.warn(msg)\n"
     ]
    },
    {
     "data": {
      "text/html": [
       "<div>\n",
       "<style scoped>\n",
       "    .dataframe tbody tr th:only-of-type {\n",
       "        vertical-align: middle;\n",
       "    }\n",
       "\n",
       "    .dataframe tbody tr th {\n",
       "        vertical-align: top;\n",
       "    }\n",
       "\n",
       "    .dataframe thead th {\n",
       "        text-align: right;\n",
       "    }\n",
       "</style>\n",
       "<table border=\"1\" class=\"dataframe\">\n",
       "  <thead>\n",
       "    <tr style=\"text-align: right;\">\n",
       "      <th></th>\n",
       "      <th>battery</th>\n",
       "      <th>cardboard</th>\n",
       "      <th>clothes</th>\n",
       "      <th>glass</th>\n",
       "      <th>metal</th>\n",
       "      <th>paper</th>\n",
       "      <th>plastic</th>\n",
       "      <th>trash</th>\n",
       "    </tr>\n",
       "  </thead>\n",
       "  <tbody>\n",
       "    <tr>\n",
       "      <th>0</th>\n",
       "      <td>0.96198</td>\n",
       "      <td>0.461258</td>\n",
       "      <td>0.997945</td>\n",
       "      <td>0.684569</td>\n",
       "      <td>0.696039</td>\n",
       "      <td>0.385976</td>\n",
       "      <td>0.654634</td>\n",
       "      <td>0.036925</td>\n",
       "    </tr>\n",
       "  </tbody>\n",
       "</table>\n",
       "</div>"
      ],
      "text/plain": [
       "   battery  cardboard   clothes     glass     metal     paper   plastic  \\\n",
       "0  0.96198   0.461258  0.997945  0.684569  0.696039  0.385976  0.654634   \n",
       "\n",
       "      trash  \n",
       "0  0.036925  "
      ]
     },
     "execution_count": 46,
     "metadata": {},
     "output_type": "execute_result"
    }
   ],
   "source": [
    "import pandas as pd\n",
    "output = model.predict(X_input)\n",
    "pd.DataFrame(output, columns=prep.encoded_y_cols)"
   ]
  },
  {
   "cell_type": "code",
   "execution_count": 47,
   "metadata": {},
   "outputs": [
    {
     "data": {
      "text/plain": [
       "'clothes'"
      ]
     },
     "execution_count": 47,
     "metadata": {},
     "output_type": "execute_result"
    }
   ],
   "source": [
    "import numpy as np\n",
    "predicted_class = np.argmax(output[0])\n",
    "prep.encoded_y_cols[predicted_class]"
   ]
  },
  {
   "cell_type": "code",
   "execution_count": 48,
   "metadata": {},
   "outputs": [
    {
     "name": "stdout",
     "output_type": "stream",
     "text": [
      "\u001b[1m1/1\u001b[0m \u001b[32m━━━━━━━━━━━━━━━━━━━━\u001b[0m\u001b[37m\u001b[0m \u001b[1m0s\u001b[0m 112ms/step\n"
     ]
    },
    {
     "name": "stderr",
     "output_type": "stream",
     "text": [
      "c:\\Users\\Asa\\miniconda3\\envs\\dev\\Lib\\site-packages\\keras\\src\\models\\functional.py:237: UserWarning: The structure of `inputs` doesn't match the expected structure.\n",
      "Expected: input_layer_3\n",
      "Received: inputs=('Tensor(shape=(1, 150, 150))', ())\n",
      "  warnings.warn(msg)\n"
     ]
    },
    {
     "data": {
      "text/plain": [
       "'clothes'"
      ]
     },
     "execution_count": 48,
     "metadata": {},
     "output_type": "execute_result"
    }
   ],
   "source": [
    "prep.get_prediction(image_path=image_path)"
   ]
  }
 ],
 "metadata": {
  "kernelspec": {
   "display_name": "dev",
   "language": "python",
   "name": "python3"
  },
  "language_info": {
   "codemirror_mode": {
    "name": "ipython",
    "version": 3
   },
   "file_extension": ".py",
   "mimetype": "text/x-python",
   "name": "python",
   "nbconvert_exporter": "python",
   "pygments_lexer": "ipython3",
   "version": "3.11.11"
  }
 },
 "nbformat": 4,
 "nbformat_minor": 2
}
