{
 "cells": [
  {
   "cell_type": "code",
   "execution_count": 1,
   "id": "8b558688",
   "metadata": {},
   "outputs": [],
   "source": [
    "import preprocessing as prep\n"
   ]
  },
  {
   "cell_type": "code",
   "execution_count": 2,
   "id": "89713127",
   "metadata": {},
   "outputs": [
    {
     "name": "stderr",
     "output_type": "stream",
     "text": [
      "Downloading...\n",
      "From (original): https://drive.google.com/uc?id=1nTuoMsB36cNLTOUHeHmDjbshVixsWZDs\n",
      "From (redirected): https://drive.google.com/uc?id=1nTuoMsB36cNLTOUHeHmDjbshVixsWZDs&confirm=t&uuid=773d3fff-2951-4af4-aca0-2279af1ee656\n",
      "To: c:\\Users\\Asa\\OneDrive\\UNC Grad School\\Data 710\\Capstone-Project-3\\garbage_recycle_model.pkl\n",
      "100%|██████████| 376M/376M [00:25<00:00, 14.5MB/s] \n",
      "c:\\Users\\Asa\\miniconda3\\envs\\dev\\Lib\\site-packages\\keras\\src\\models\\functional.py:237: UserWarning: The structure of `inputs` doesn't match the expected structure.\n",
      "Expected: input_layer_1\n",
      "Received: inputs=('Tensor(shape=(1, 150, 150, 3))', ())\n",
      "  warnings.warn(msg)\n"
     ]
    },
    {
     "name": "stdout",
     "output_type": "stream",
     "text": [
      "\u001b[1m1/1\u001b[0m \u001b[32m━━━━━━━━━━━━━━━━━━━━\u001b[0m\u001b[37m\u001b[0m \u001b[1m1s\u001b[0m 1s/step\n"
     ]
    },
    {
     "data": {
      "text/plain": [
       "'clothes'"
      ]
     },
     "execution_count": 2,
     "metadata": {},
     "output_type": "execute_result"
    }
   ],
   "source": [
    "# stopped here for testing\n",
    "prep.get_prediction(image_path=\"clothes_test_image.jpg\")"
   ]
  }
 ],
 "metadata": {
  "kernelspec": {
   "display_name": "dev",
   "language": "python",
   "name": "python3"
  },
  "language_info": {
   "codemirror_mode": {
    "name": "ipython",
    "version": 3
   },
   "file_extension": ".py",
   "mimetype": "text/x-python",
   "name": "python",
   "nbconvert_exporter": "python",
   "pygments_lexer": "ipython3",
   "version": "3.11.11"
  }
 },
 "nbformat": 4,
 "nbformat_minor": 5
}
